{
 "cells": [
  {
   "cell_type": "code",
   "execution_count": null,
   "metadata": {},
   "outputs": [],
   "source": [
    "name = 'prepinsta prime'\n",
    "\n",
    "for val in name:\n",
    "    print(val)"
   ]
  },
  {
   "cell_type": "code",
   "execution_count": null,
   "metadata": {},
   "outputs": [],
   "source": [
    "number = \"1,728,910:163;128'123,123\"\n",
    "seperator = number[1::4]\n",
    "print(seperator)\n",
    "\n",
    "values = \"\".join(char if char not in seperator else \" \" for char in number).split()\n",
    "print([int(val) for val in values])"
   ]
  },
  {
   "cell_type": "markdown",
   "metadata": {},
   "source": [
    "# to write only number from number and symbols."
   ]
  },
  {
   "cell_type": "code",
   "execution_count": null,
   "metadata": {},
   "outputs": [],
   "source": [
    "number = \"1,728,910:163;128'123,123\"\n",
    "value = \"\"\n",
    "\n",
    "for char in number:\n",
    "    if char.isnumeric():\n",
    "        value = value + char\n",
    "\n",
    "print(value)\n"
   ]
  },
  {
   "cell_type": "markdown",
   "metadata": {},
   "source": [
    "# to write only symbols from number and symbols."
   ]
  },
  {
   "cell_type": "code",
   "execution_count": 1,
   "metadata": {},
   "outputs": [
    {
     "name": "stdout",
     "output_type": "stream",
     "text": [
      " , , : ; ' ,\n"
     ]
    }
   ],
   "source": [
    "number = \"1,728,910:163;128'123,123\"\n",
    "sep = \"\"\n",
    "\n",
    "for char in number:\n",
    "    if not char.isnumeric():\n",
    "        sep = sep +\" \" + char\n",
    "        \n",
    "print(sep)"
   ]
  },
  {
   "cell_type": "code",
   "execution_count": 1,
   "metadata": {},
   "outputs": [
    {
     "name": "stdout",
     "output_type": "stream",
     "text": [
      "14\n"
     ]
    }
   ],
   "source": [
    "str1 = \"stack of books\"\n",
    "print(len(str1))"
   ]
  },
  {
   "cell_type": "code",
   "execution_count": 2,
   "metadata": {},
   "outputs": [
    {
     "data": {
      "text/plain": [
       "'pq'"
      ]
     },
     "execution_count": 2,
     "metadata": {},
     "output_type": "execute_result"
    }
   ],
   "source": [
    "'p' + 'q' if '12'.isdigit() else 'r' + 's'"
   ]
  },
  {
   "cell_type": "code",
   "execution_count": 3,
   "metadata": {},
   "outputs": [
    {
     "name": "stdout",
     "output_type": "stream",
     "text": [
      "{'joey': 1, 'Rachel': 2, 'phoebe': 2}\n"
     ]
    }
   ],
   "source": [
    "dict = {\"joey\":1,\"Rachel\":2}\n",
    "dict.update({\"phoebe\":2})\n",
    "print(dict)"
   ]
  },
  {
   "cell_type": "code",
   "execution_count": 6,
   "metadata": {},
   "outputs": [
    {
     "name": "stdout",
     "output_type": "stream",
     "text": [
      "[6, 3, 0, 8]\n",
      "[23, 2, 9]\n",
      "[23, 2, 9, 75]\n"
     ]
    }
   ],
   "source": [
    "list1 = [6,23,3,2,0,9,8,75]\n",
    "print(list1[0:7:2])\n",
    "print(list1[1:7:2])\n",
    "print(list1[1:8:2])\n"
   ]
  },
  {
   "cell_type": "code",
   "execution_count": 10,
   "metadata": {},
   "outputs": [
    {
     "name": "stdout",
     "output_type": "stream",
     "text": [
      "[]\n"
     ]
    }
   ],
   "source": [
    "list1= []*3\n",
    "print(list1)"
   ]
  },
  {
   "cell_type": "code",
   "execution_count": 11,
   "metadata": {},
   "outputs": [
    {
     "ename": "TypeError",
     "evalue": "can only concatenate str (not \"int\") to str",
     "output_type": "error",
     "traceback": [
      "\u001b[1;31m---------------------------------------------------------------------------\u001b[0m",
      "\u001b[1;31mTypeError\u001b[0m                                 Traceback (most recent call last)",
      "\u001b[1;32md:\\Programming\\prepinsta\\for_loop1.ipynb Cell 12\u001b[0m line \u001b[0;36m1\n\u001b[1;32m----> <a href='vscode-notebook-cell:/d%3A/Programming/prepinsta/for_loop1.ipynb#X14sZmlsZQ%3D%3D?line=0'>1</a>\u001b[0m \u001b[39mprint\u001b[39m(\u001b[39m\"\u001b[39m\u001b[39mHello\u001b[39m\u001b[39m\"\u001b[39m \u001b[39m+\u001b[39m \u001b[39m2\u001b[39m \u001b[39m+\u001b[39m \u001b[39m\"\u001b[39m\u001b[39mworld\u001b[39m\u001b[39m\"\u001b[39m)\n",
      "\u001b[1;31mTypeError\u001b[0m: can only concatenate str (not \"int\") to str"
     ]
    }
   ],
   "source": [
    "print(\"Hello\" + 2 + \"world\")"
   ]
  },
  {
   "cell_type": "code",
   "execution_count": 12,
   "metadata": {},
   "outputs": [
    {
     "name": "stdout",
     "output_type": "stream",
     "text": [
      "False\n"
     ]
    }
   ],
   "source": [
    "print(0.1+0.2==0.3)"
   ]
  },
  {
   "cell_type": "code",
   "execution_count": 13,
   "metadata": {},
   "outputs": [
    {
     "name": "stdout",
     "output_type": "stream",
     "text": [
      "AplicAtion\n"
     ]
    }
   ],
   "source": [
    "str1 = \"Aplication\"\n",
    "str2 = str1.replace('a', 'A')\n",
    "print(str2)"
   ]
  },
  {
   "cell_type": "code",
   "execution_count": 14,
   "metadata": {},
   "outputs": [
    {
     "name": "stdout",
     "output_type": "stream",
     "text": [
      "0\n"
     ]
    }
   ],
   "source": [
    "tupl = ()\n",
    "tupl1 = tupl*2\n",
    "print(len(tupl1))"
   ]
  },
  {
   "cell_type": "code",
   "execution_count": 15,
   "metadata": {},
   "outputs": [
    {
     "name": "stdout",
     "output_type": "stream",
     "text": [
      "{4}\n"
     ]
    }
   ],
   "source": [
    "list1 = [1,3,4,2]\n",
    "x = list1.pop(2)\n",
    "print(set([x]))"
   ]
  },
  {
   "cell_type": "code",
   "execution_count": 16,
   "metadata": {},
   "outputs": [
    {
     "name": "stdout",
     "output_type": "stream",
     "text": [
      "(2, 4, 3, 2, 4, 3)\n"
     ]
    }
   ],
   "source": [
    "tup = (2,4,3)\n",
    "tup3 = tup*2\n",
    "print(tup3)"
   ]
  },
  {
   "cell_type": "code",
   "execution_count": 21,
   "metadata": {},
   "outputs": [
    {
     "name": "stdout",
     "output_type": "stream",
     "text": [
      "Simon\n"
     ]
    }
   ],
   "source": [
    "str1 = \"John,Simon,Aryan\"\n",
    "# print(str1[-7:-12])\n",
    "# print(str1[-11:-7])\n",
    "print(str1[-11:-6])\n",
    "# print(str1[-7:-11])\n"
   ]
  },
  {
   "cell_type": "code",
   "execution_count": 22,
   "metadata": {},
   "outputs": [
    {
     "name": "stdout",
     "output_type": "stream",
     "text": [
      "3 2 01\n"
     ]
    }
   ],
   "source": [
    "dict1={\"a\":10,\"b\":2,\"c\":3}\n",
    "\n",
    "str1=\"\"\n",
    "\n",
    "for i in dict1:\n",
    "\n",
    "    str1=str1+str(dict1[i])+\" \"\n",
    "\n",
    "    str2=str1[:-1]\n",
    "\n",
    "print(str2[::-1])"
   ]
  },
  {
   "cell_type": "code",
   "execution_count": null,
   "metadata": {},
   "outputs": [],
   "source": [
    "ans = input(\"The capital of Canada is? \")\n",
    "\n",
    "if(ans == \"Ottawa\"): print(\"You are wise\")\n",
    "\n",
    "else: print(\"You are ignorant\")\n"
   ]
  }
 ],
 "metadata": {
  "kernelspec": {
   "display_name": "base",
   "language": "python",
   "name": "python3"
  },
  "language_info": {
   "codemirror_mode": {
    "name": "ipython",
    "version": 3
   },
   "file_extension": ".py",
   "mimetype": "text/x-python",
   "name": "python",
   "nbconvert_exporter": "python",
   "pygments_lexer": "ipython3",
   "version": "3.11.5"
  },
  "orig_nbformat": 4
 },
 "nbformat": 4,
 "nbformat_minor": 2
}
