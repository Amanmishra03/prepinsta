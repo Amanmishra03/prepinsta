{
 "cells": [
  {
   "cell_type": "code",
   "execution_count": null,
   "metadata": {},
   "outputs": [],
   "source": [
    "name = 'prepinsta prime'\n",
    "\n",
    "for val in name:\n",
    "    print(val)"
   ]
  },
  {
   "cell_type": "code",
   "execution_count": null,
   "metadata": {},
   "outputs": [],
   "source": [
    "number = \"1,728,910:163;128'123,123\"\n",
    "seperator = number[1::4]\n",
    "print(seperator)\n",
    "\n",
    "values = \"\".join(char if char not in seperator else \" \" for char in number).split()\n",
    "print([int(val) for val in values])"
   ]
  },
  {
   "cell_type": "markdown",
   "metadata": {},
   "source": [
    "# to write only number from number and symbols."
   ]
  },
  {
   "cell_type": "code",
   "execution_count": null,
   "metadata": {},
   "outputs": [],
   "source": [
    "number = \"1,728,910:163;128'123,123\"\n",
    "value = \"\"\n",
    "\n",
    "for char in number:\n",
    "    if char.isnumeric():\n",
    "        value = value + char\n",
    "\n",
    "print(value)\n"
   ]
  },
  {
   "cell_type": "markdown",
   "metadata": {},
   "source": [
    "# to write only symbols from number and symbols."
   ]
  },
  {
   "cell_type": "code",
   "execution_count": 9,
   "metadata": {},
   "outputs": [
    {
     "name": "stdout",
     "output_type": "stream",
     "text": [
      " , , : ; ' ,\n"
     ]
    }
   ],
   "source": [
    "number = \"1,728,910:163;128'123,123\"\n",
    "sep = \"\"\n",
    "\n",
    "for char in number:\n",
    "    if not char.isnumeric():\n",
    "        sep = sep +\" \" + char\n",
    "        \n",
    "print(sep)"
   ]
  }
 ],
 "metadata": {
  "kernelspec": {
   "display_name": "base",
   "language": "python",
   "name": "python3"
  },
  "language_info": {
   "codemirror_mode": {
    "name": "ipython",
    "version": 3
   },
   "file_extension": ".py",
   "mimetype": "text/x-python",
   "name": "python",
   "nbconvert_exporter": "python",
   "pygments_lexer": "ipython3",
   "version": "3.11.4"
  },
  "orig_nbformat": 4
 },
 "nbformat": 4,
 "nbformat_minor": 2
}
