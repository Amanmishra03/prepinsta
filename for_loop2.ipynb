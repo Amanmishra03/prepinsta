{
 "cells": [
  {
   "cell_type": "code",
   "execution_count": 1,
   "metadata": {},
   "outputs": [
    {
     "name": "stdout",
     "output_type": "stream",
     "text": [
      "1728910163128123123\n",
      "[1, 7, 2, 8, 9, 1, 0, 1, 6, 3, 1, 2, 8, 1, 2, 3, 1, 2, 3]\n"
     ]
    }
   ],
   "source": [
    "number = \"1,728,910:163;128'123,123\"\n",
    "value = \"\"\n",
    "\n",
    "for char in number:\n",
    "    if char.isnumeric():\n",
    "        value = value + char\n",
    "\n",
    "print(value)\n",
    "print([int(val) for val in value])\n"
   ]
  }
 ],
 "metadata": {
  "kernelspec": {
   "display_name": "base",
   "language": "python",
   "name": "python3"
  },
  "language_info": {
   "codemirror_mode": {
    "name": "ipython",
    "version": 3
   },
   "file_extension": ".py",
   "mimetype": "text/x-python",
   "name": "python",
   "nbconvert_exporter": "python",
   "pygments_lexer": "ipython3",
   "version": "3.11.5"
  },
  "orig_nbformat": 4
 },
 "nbformat": 4,
 "nbformat_minor": 2
}
