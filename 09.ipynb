{
 "cells": [
  {
   "cell_type": "code",
   "execution_count": null,
   "metadata": {},
   "outputs": [],
   "source": [
    "string1 = 'i am a\\nstring\\ninseveral lines'\n",
    "print(string1)"
   ]
  },
  {
   "cell_type": "markdown",
   "metadata": {},
   "source": [
    "# \\t gives few empty space(tabs) "
   ]
  },
  {
   "cell_type": "code",
   "execution_count": 1,
   "metadata": {},
   "outputs": [
    {
     "name": "stdout",
     "output_type": "stream",
     "text": [
      "1.oil \t 2. flour \t 3. bake \t 4.oven\n"
     ]
    }
   ],
   "source": [
    "string2 = '1.oil \\t 2. flour \\t 3. bake \\t 4.oven'\n",
    "print(string2)"
   ]
  },
  {
   "cell_type": "code",
   "execution_count": 3,
   "metadata": {},
   "outputs": [
    {
     "name": "stdout",
     "output_type": "stream",
     "text": [
      "donald trump said \"it's going to be huge\".\n",
      "donald trump said \"it's going to be huge\".\n",
      "donald trump said \"it's going to be huge\".\n"
     ]
    }
   ],
   "source": [
    "print('donald trump said \"it\\'s going to be huge\".')\n",
    "print(\"donald trump said \\\"it's going to be huge\\\".\")\n",
    "print(\"\"\"donald trump said \"it\\'s going to be huge\".\"\"\")\n",
    "\n"
   ]
  },
  {
   "cell_type": "code",
   "execution_count": 1,
   "metadata": {},
   "outputs": [
    {
     "name": "stdout",
     "output_type": "stream",
     "text": [
      "28.26\n"
     ]
    }
   ],
   "source": [
    "# write area of a circle\n",
    "radius = 3\n",
    "area = 3.14 * radius ** 2\n",
    "print(area)"
   ]
  },
  {
   "cell_type": "code",
   "execution_count": 2,
   "metadata": {},
   "outputs": [
    {
     "name": "stdout",
     "output_type": "stream",
     "text": [
      "12\n"
     ]
    }
   ],
   "source": [
    "# perimeter of Rectangle\n",
    "length = 4\n",
    "width = 2\n",
    "perimeter = 2 * (length + width)\n",
    "print(perimeter)"
   ]
  },
  {
   "cell_type": "code",
   "execution_count": 3,
   "metadata": {},
   "outputs": [
    {
     "name": "stdout",
     "output_type": "stream",
     "text": [
      "6\n"
     ]
    }
   ],
   "source": [
    "# diameter of a circle\n",
    "radius = 3  # radius = diameter / 2     \n",
    "diameter = 2 * radius\n",
    "print(diameter)"
   ]
  }
 ],
 "metadata": {
  "kernelspec": {
   "display_name": "base",
   "language": "python",
   "name": "python3"
  },
  "language_info": {
   "codemirror_mode": {
    "name": "ipython",
    "version": 3
   },
   "file_extension": ".py",
   "mimetype": "text/x-python",
   "name": "python",
   "nbconvert_exporter": "python",
   "pygments_lexer": "ipython3",
   "version": "3.11.5"
  },
  "orig_nbformat": 4
 },
 "nbformat": 4,
 "nbformat_minor": 2
}
